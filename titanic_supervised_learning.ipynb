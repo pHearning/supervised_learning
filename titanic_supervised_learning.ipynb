{
 "cells": [
  {
   "cell_type": "code",
   "execution_count": 1,
   "metadata": {
    "collapsed": false
   },
   "outputs": [],
   "source": [
    "# Titanic dataset can be found https://www.kaggle.com/c/titanic/data\n",
    "# This is a very basic introduction to ML via Random forest classifers\n",
    "\n",
    "# Get the libraries you will need - NOTE - They are case sensitive\n",
    "import pandas as pd\n",
    "import numpy as np \n",
    "from sklearn.ensemble import RandomForestClassifier\n",
    "from sklearn.metrics import accuracy_score\n",
    "import scipy\n",
    "from scipy.stats import gaussian_kde\n",
    "import matplotlib.pyplot as plt\n",
    "from sklearn.model_selection import cross_val_score\n",
    "from sklearn.model_selection import train_test_split\n"
   ]
  },
  {
   "cell_type": "code",
   "execution_count": 2,
   "metadata": {
    "collapsed": false
   },
   "outputs": [
    {
     "data": {
      "text/html": [
       "<div>\n",
       "<table border=\"1\" class=\"dataframe\">\n",
       "  <thead>\n",
       "    <tr style=\"text-align: right;\">\n",
       "      <th></th>\n",
       "      <th>PassengerId</th>\n",
       "      <th>Survived</th>\n",
       "      <th>Pclass</th>\n",
       "      <th>Name</th>\n",
       "      <th>Sex</th>\n",
       "      <th>Age</th>\n",
       "      <th>SibSp</th>\n",
       "      <th>Parch</th>\n",
       "      <th>Ticket</th>\n",
       "      <th>Fare</th>\n",
       "      <th>Cabin</th>\n",
       "      <th>Embarked</th>\n",
       "    </tr>\n",
       "  </thead>\n",
       "  <tbody>\n",
       "    <tr>\n",
       "      <th>0</th>\n",
       "      <td>1</td>\n",
       "      <td>0</td>\n",
       "      <td>3</td>\n",
       "      <td>Braund, Mr. Owen Harris</td>\n",
       "      <td>male</td>\n",
       "      <td>22.0</td>\n",
       "      <td>1</td>\n",
       "      <td>0</td>\n",
       "      <td>A/5 21171</td>\n",
       "      <td>7.2500</td>\n",
       "      <td>NaN</td>\n",
       "      <td>S</td>\n",
       "    </tr>\n",
       "    <tr>\n",
       "      <th>1</th>\n",
       "      <td>2</td>\n",
       "      <td>1</td>\n",
       "      <td>1</td>\n",
       "      <td>Cumings, Mrs. John Bradley (Florence Briggs Th...</td>\n",
       "      <td>female</td>\n",
       "      <td>38.0</td>\n",
       "      <td>1</td>\n",
       "      <td>0</td>\n",
       "      <td>PC 17599</td>\n",
       "      <td>71.2833</td>\n",
       "      <td>C85</td>\n",
       "      <td>C</td>\n",
       "    </tr>\n",
       "    <tr>\n",
       "      <th>2</th>\n",
       "      <td>3</td>\n",
       "      <td>1</td>\n",
       "      <td>3</td>\n",
       "      <td>Heikkinen, Miss. Laina</td>\n",
       "      <td>female</td>\n",
       "      <td>26.0</td>\n",
       "      <td>0</td>\n",
       "      <td>0</td>\n",
       "      <td>STON/O2. 3101282</td>\n",
       "      <td>7.9250</td>\n",
       "      <td>NaN</td>\n",
       "      <td>S</td>\n",
       "    </tr>\n",
       "    <tr>\n",
       "      <th>3</th>\n",
       "      <td>4</td>\n",
       "      <td>1</td>\n",
       "      <td>1</td>\n",
       "      <td>Futrelle, Mrs. Jacques Heath (Lily May Peel)</td>\n",
       "      <td>female</td>\n",
       "      <td>35.0</td>\n",
       "      <td>1</td>\n",
       "      <td>0</td>\n",
       "      <td>113803</td>\n",
       "      <td>53.1000</td>\n",
       "      <td>C123</td>\n",
       "      <td>S</td>\n",
       "    </tr>\n",
       "    <tr>\n",
       "      <th>4</th>\n",
       "      <td>5</td>\n",
       "      <td>0</td>\n",
       "      <td>3</td>\n",
       "      <td>Allen, Mr. William Henry</td>\n",
       "      <td>male</td>\n",
       "      <td>35.0</td>\n",
       "      <td>0</td>\n",
       "      <td>0</td>\n",
       "      <td>373450</td>\n",
       "      <td>8.0500</td>\n",
       "      <td>NaN</td>\n",
       "      <td>S</td>\n",
       "    </tr>\n",
       "  </tbody>\n",
       "</table>\n",
       "</div>"
      ],
      "text/plain": [
       "   PassengerId  Survived  Pclass  \\\n",
       "0            1         0       3   \n",
       "1            2         1       1   \n",
       "2            3         1       3   \n",
       "3            4         1       1   \n",
       "4            5         0       3   \n",
       "\n",
       "                                                Name     Sex   Age  SibSp  \\\n",
       "0                            Braund, Mr. Owen Harris    male  22.0      1   \n",
       "1  Cumings, Mrs. John Bradley (Florence Briggs Th...  female  38.0      1   \n",
       "2                             Heikkinen, Miss. Laina  female  26.0      0   \n",
       "3       Futrelle, Mrs. Jacques Heath (Lily May Peel)  female  35.0      1   \n",
       "4                           Allen, Mr. William Henry    male  35.0      0   \n",
       "\n",
       "   Parch            Ticket     Fare Cabin Embarked  \n",
       "0      0         A/5 21171   7.2500   NaN        S  \n",
       "1      0          PC 17599  71.2833   C85        C  \n",
       "2      0  STON/O2. 3101282   7.9250   NaN        S  \n",
       "3      0            113803  53.1000  C123        S  \n",
       "4      0            373450   8.0500   NaN        S  "
      ]
     },
     "execution_count": 2,
     "metadata": {},
     "output_type": "execute_result"
    }
   ],
   "source": [
    "#Now, we will read the data (my data is stored in a data folder in my wd)\n",
    "#will read it directly into a dataframe\n",
    "\n",
    "train = pd.read_csv(filepath_or_buffer='./data/train.csv')\n",
    "test = pd.read_csv(filepath_or_buffer='./data/test.csv')\n",
    "\n",
    "headers = train.columns\n",
    "train.head()\n",
    "\n"
   ]
  },
  {
   "cell_type": "code",
   "execution_count": 3,
   "metadata": {
    "collapsed": false
   },
   "outputs": [
    {
     "data": {
      "text/html": [
       "<div>\n",
       "<table border=\"1\" class=\"dataframe\">\n",
       "  <thead>\n",
       "    <tr style=\"text-align: right;\">\n",
       "      <th></th>\n",
       "      <th>Survived</th>\n",
       "      <th>Pclass</th>\n",
       "      <th>Sex</th>\n",
       "      <th>Age</th>\n",
       "      <th>Fare</th>\n",
       "      <th>Embarked</th>\n",
       "    </tr>\n",
       "  </thead>\n",
       "  <tbody>\n",
       "    <tr>\n",
       "      <th>0</th>\n",
       "      <td>0</td>\n",
       "      <td>3</td>\n",
       "      <td>male</td>\n",
       "      <td>22.0</td>\n",
       "      <td>7.2500</td>\n",
       "      <td>S</td>\n",
       "    </tr>\n",
       "    <tr>\n",
       "      <th>1</th>\n",
       "      <td>1</td>\n",
       "      <td>1</td>\n",
       "      <td>female</td>\n",
       "      <td>38.0</td>\n",
       "      <td>71.2833</td>\n",
       "      <td>C</td>\n",
       "    </tr>\n",
       "    <tr>\n",
       "      <th>2</th>\n",
       "      <td>1</td>\n",
       "      <td>3</td>\n",
       "      <td>female</td>\n",
       "      <td>26.0</td>\n",
       "      <td>7.9250</td>\n",
       "      <td>S</td>\n",
       "    </tr>\n",
       "    <tr>\n",
       "      <th>3</th>\n",
       "      <td>1</td>\n",
       "      <td>1</td>\n",
       "      <td>female</td>\n",
       "      <td>35.0</td>\n",
       "      <td>53.1000</td>\n",
       "      <td>S</td>\n",
       "    </tr>\n",
       "    <tr>\n",
       "      <th>4</th>\n",
       "      <td>0</td>\n",
       "      <td>3</td>\n",
       "      <td>male</td>\n",
       "      <td>35.0</td>\n",
       "      <td>8.0500</td>\n",
       "      <td>S</td>\n",
       "    </tr>\n",
       "  </tbody>\n",
       "</table>\n",
       "</div>"
      ],
      "text/plain": [
       "   Survived  Pclass     Sex   Age     Fare Embarked\n",
       "0         0       3    male  22.0   7.2500        S\n",
       "1         1       1  female  38.0  71.2833        C\n",
       "2         1       3  female  26.0   7.9250        S\n",
       "3         1       1  female  35.0  53.1000        S\n",
       "4         0       3    male  35.0   8.0500        S"
      ]
     },
     "execution_count": 3,
     "metadata": {},
     "output_type": "execute_result"
    }
   ],
   "source": [
    "#Looking at the data, there are some columns we can get rid of as they are not predictive (I BELIEVE, you may think otherwise...)\n",
    "#Passengerid, ticket, name, SibSp, Parch, Cabin\n",
    "# The axis specifies columns (0 would specify rows)\n",
    "train = train.drop(['PassengerId', 'Ticket', 'Name', 'SibSp', 'Parch', 'Cabin'], axis=1)\n",
    "train.head()"
   ]
  },
  {
   "cell_type": "code",
   "execution_count": 4,
   "metadata": {
    "collapsed": false
   },
   "outputs": [
    {
     "data": {
      "text/plain": [
       "Survived    False\n",
       "Pclass      False\n",
       "Sex         False\n",
       "Age          True\n",
       "Fare        False\n",
       "Embarked     True\n",
       "dtype: bool"
      ]
     },
     "execution_count": 4,
     "metadata": {},
     "output_type": "execute_result"
    }
   ],
   "source": [
    "#Now, look at the columns to see which ones are fully filled and which are not\n",
    "nullCols = pd.isnull(train).sum() > 0\n",
    "nullCols"
   ]
  },
  {
   "cell_type": "code",
   "execution_count": 5,
   "metadata": {
    "collapsed": false
   },
   "outputs": [
    {
     "data": {
      "image/png": "[encoded data removed]",
      "text/plain": [
       "<matplotlib.figure.Figure at 0x1115ff358>"
      ]
     },
     "metadata": {},
     "output_type": "display_data"
    },
    {
     "name": "stdout",
     "output_type": "stream",
     "text": [
      "Mean Age: 29.69911764705882\n",
      "Median Age: 28.0\n"
     ]
    }
   ],
   "source": [
    "# Now, think of suitable replacement values\n",
    "# Age...\n",
    "\n",
    "mean_age = np.mean(train['Age'].dropna())\n",
    "median_age = np.median(train['Age'].dropna())\n",
    "\n",
    "plt.hist(train['Age'].dropna())\n",
    "plt.show()\n",
    "\n",
    "print ('Mean Age: {}'.format(str(mean_age)))\n",
    "print ('Median Age: {}'.format(str(median_age)))"
   ]
  },
  {
   "cell_type": "code",
   "execution_count": 6,
   "metadata": {
    "collapsed": false
   },
   "outputs": [
    {
     "data": {
      "text/plain": [
       "Sex\n",
       "female    27.915709\n",
       "male      30.726645\n",
       "Name: Age, dtype: float64"
      ]
     },
     "execution_count": 6,
     "metadata": {},
     "output_type": "execute_result"
    }
   ],
   "source": [
    "# Could also look at the splits by gender\n",
    "mean_split = train.groupby('Sex').mean()['Age']\n",
    "mean_split\n",
    "\n"
   ]
  },
  {
   "cell_type": "code",
   "execution_count": 7,
   "metadata": {
    "collapsed": false
   },
   "outputs": [
    {
     "data": {
      "text/html": [
       "<div>\n",
       "<table border=\"1\" class=\"dataframe\">\n",
       "  <thead>\n",
       "    <tr style=\"text-align: right;\">\n",
       "      <th></th>\n",
       "      <th>Survived</th>\n",
       "      <th>Pclass</th>\n",
       "      <th>Sex</th>\n",
       "      <th>Age</th>\n",
       "      <th>Fare</th>\n",
       "      <th>Embarked</th>\n",
       "    </tr>\n",
       "  </thead>\n",
       "  <tbody>\n",
       "    <tr>\n",
       "      <th>0</th>\n",
       "      <td>0</td>\n",
       "      <td>3</td>\n",
       "      <td>male</td>\n",
       "      <td>22.0</td>\n",
       "      <td>7.2500</td>\n",
       "      <td>S</td>\n",
       "    </tr>\n",
       "    <tr>\n",
       "      <th>1</th>\n",
       "      <td>1</td>\n",
       "      <td>1</td>\n",
       "      <td>female</td>\n",
       "      <td>38.0</td>\n",
       "      <td>71.2833</td>\n",
       "      <td>C</td>\n",
       "    </tr>\n",
       "    <tr>\n",
       "      <th>2</th>\n",
       "      <td>1</td>\n",
       "      <td>3</td>\n",
       "      <td>female</td>\n",
       "      <td>26.0</td>\n",
       "      <td>7.9250</td>\n",
       "      <td>S</td>\n",
       "    </tr>\n",
       "    <tr>\n",
       "      <th>3</th>\n",
       "      <td>1</td>\n",
       "      <td>1</td>\n",
       "      <td>female</td>\n",
       "      <td>35.0</td>\n",
       "      <td>53.1000</td>\n",
       "      <td>S</td>\n",
       "    </tr>\n",
       "    <tr>\n",
       "      <th>4</th>\n",
       "      <td>0</td>\n",
       "      <td>3</td>\n",
       "      <td>male</td>\n",
       "      <td>35.0</td>\n",
       "      <td>8.0500</td>\n",
       "      <td>S</td>\n",
       "    </tr>\n",
       "  </tbody>\n",
       "</table>\n",
       "</div>"
      ],
      "text/plain": [
       "   Survived  Pclass     Sex   Age     Fare Embarked\n",
       "0         0       3    male  22.0   7.2500        S\n",
       "1         1       1  female  38.0  71.2833        C\n",
       "2         1       3  female  26.0   7.9250        S\n",
       "3         1       1  female  35.0  53.1000        S\n",
       "4         0       3    male  35.0   8.0500        S"
      ]
     },
     "execution_count": 7,
     "metadata": {},
     "output_type": "execute_result"
    }
   ],
   "source": [
    "# Everything is pretty even, so I will just take 28 as the replacement value\n",
    "train['Age'] = train['Age'].fillna(28)\n",
    "train.head()"
   ]
  },
  {
   "cell_type": "code",
   "execution_count": 8,
   "metadata": {
    "collapsed": false
   },
   "outputs": [
    {
     "name": "stdout",
     "output_type": "stream",
     "text": [
      "Survived    0\n",
      "Pclass      0\n",
      "Sex         0\n",
      "Age         0\n",
      "Fare        0\n",
      "Embarked    2\n",
      "dtype: int64\n"
     ]
    },
    {
     "data": {
      "text/html": [
       "<div>\n",
       "<table border=\"1\" class=\"dataframe\">\n",
       "  <thead>\n",
       "    <tr style=\"text-align: right;\">\n",
       "      <th></th>\n",
       "      <th>Survived</th>\n",
       "      <th>Pclass</th>\n",
       "      <th>Sex</th>\n",
       "      <th>Age</th>\n",
       "      <th>Fare</th>\n",
       "    </tr>\n",
       "    <tr>\n",
       "      <th>Embarked</th>\n",
       "      <th></th>\n",
       "      <th></th>\n",
       "      <th></th>\n",
       "      <th></th>\n",
       "      <th></th>\n",
       "    </tr>\n",
       "  </thead>\n",
       "  <tbody>\n",
       "    <tr>\n",
       "      <th>C</th>\n",
       "      <td>168</td>\n",
       "      <td>168</td>\n",
       "      <td>168</td>\n",
       "      <td>168</td>\n",
       "      <td>168</td>\n",
       "    </tr>\n",
       "    <tr>\n",
       "      <th>Q</th>\n",
       "      <td>77</td>\n",
       "      <td>77</td>\n",
       "      <td>77</td>\n",
       "      <td>77</td>\n",
       "      <td>77</td>\n",
       "    </tr>\n",
       "    <tr>\n",
       "      <th>S</th>\n",
       "      <td>644</td>\n",
       "      <td>644</td>\n",
       "      <td>644</td>\n",
       "      <td>644</td>\n",
       "      <td>644</td>\n",
       "    </tr>\n",
       "  </tbody>\n",
       "</table>\n",
       "</div>"
      ],
      "text/plain": [
       "          Survived  Pclass  Sex  Age  Fare\n",
       "Embarked                                  \n",
       "C              168     168  168  168   168\n",
       "Q               77      77   77   77    77\n",
       "S              644     644  644  644   644"
      ]
     },
     "execution_count": 8,
     "metadata": {},
     "output_type": "execute_result"
    }
   ],
   "source": [
    "print (train.isnull().sum())\n",
    "train.groupby('Embarked').count()"
   ]
  },
  {
   "cell_type": "code",
   "execution_count": 9,
   "metadata": {
    "collapsed": false
   },
   "outputs": [
    {
     "data": {
      "text/html": [
       "<div>\n",
       "<table border=\"1\" class=\"dataframe\">\n",
       "  <thead>\n",
       "    <tr style=\"text-align: right;\">\n",
       "      <th></th>\n",
       "      <th>Survived</th>\n",
       "      <th>Pclass</th>\n",
       "      <th>Sex</th>\n",
       "      <th>Age</th>\n",
       "      <th>Fare</th>\n",
       "      <th>Embarked</th>\n",
       "    </tr>\n",
       "  </thead>\n",
       "  <tbody>\n",
       "    <tr>\n",
       "      <th>0</th>\n",
       "      <td>0</td>\n",
       "      <td>3</td>\n",
       "      <td>male</td>\n",
       "      <td>22.0</td>\n",
       "      <td>7.2500</td>\n",
       "      <td>S</td>\n",
       "    </tr>\n",
       "    <tr>\n",
       "      <th>1</th>\n",
       "      <td>1</td>\n",
       "      <td>1</td>\n",
       "      <td>female</td>\n",
       "      <td>38.0</td>\n",
       "      <td>71.2833</td>\n",
       "      <td>C</td>\n",
       "    </tr>\n",
       "    <tr>\n",
       "      <th>2</th>\n",
       "      <td>1</td>\n",
       "      <td>3</td>\n",
       "      <td>female</td>\n",
       "      <td>26.0</td>\n",
       "      <td>7.9250</td>\n",
       "      <td>S</td>\n",
       "    </tr>\n",
       "    <tr>\n",
       "      <th>3</th>\n",
       "      <td>1</td>\n",
       "      <td>1</td>\n",
       "      <td>female</td>\n",
       "      <td>35.0</td>\n",
       "      <td>53.1000</td>\n",
       "      <td>S</td>\n",
       "    </tr>\n",
       "    <tr>\n",
       "      <th>4</th>\n",
       "      <td>0</td>\n",
       "      <td>3</td>\n",
       "      <td>male</td>\n",
       "      <td>35.0</td>\n",
       "      <td>8.0500</td>\n",
       "      <td>S</td>\n",
       "    </tr>\n",
       "  </tbody>\n",
       "</table>\n",
       "</div>"
      ],
      "text/plain": [
       "   Survived  Pclass     Sex   Age     Fare Embarked\n",
       "0         0       3    male  22.0   7.2500        S\n",
       "1         1       1  female  38.0  71.2833        C\n",
       "2         1       3  female  26.0   7.9250        S\n",
       "3         1       1  female  35.0  53.1000        S\n",
       "4         0       3    male  35.0   8.0500        S"
      ]
     },
     "execution_count": 9,
     "metadata": {},
     "output_type": "execute_result"
    }
   ],
   "source": [
    "#As we are only actually missing 2 values from embarked, we can just fill them in with our most common value\n",
    "#You could also exclude them if you wanted\n",
    "train['Embarked'] = train['Embarked'].fillna('S')\n",
    "train.head()"
   ]
  },
  {
   "cell_type": "code",
   "execution_count": 10,
   "metadata": {
    "collapsed": false
   },
   "outputs": [
    {
     "data": {
      "text/html": [
       "<div>\n",
       "<table border=\"1\" class=\"dataframe\">\n",
       "  <thead>\n",
       "    <tr style=\"text-align: right;\">\n",
       "      <th></th>\n",
       "      <th>Pclass</th>\n",
       "      <th>Sex</th>\n",
       "      <th>Age</th>\n",
       "      <th>Fare</th>\n",
       "      <th>Embarked</th>\n",
       "    </tr>\n",
       "  </thead>\n",
       "  <tbody>\n",
       "    <tr>\n",
       "      <th>0</th>\n",
       "      <td>3</td>\n",
       "      <td>male</td>\n",
       "      <td>22.0</td>\n",
       "      <td>7.2500</td>\n",
       "      <td>S</td>\n",
       "    </tr>\n",
       "    <tr>\n",
       "      <th>1</th>\n",
       "      <td>1</td>\n",
       "      <td>female</td>\n",
       "      <td>38.0</td>\n",
       "      <td>71.2833</td>\n",
       "      <td>C</td>\n",
       "    </tr>\n",
       "    <tr>\n",
       "      <th>2</th>\n",
       "      <td>3</td>\n",
       "      <td>female</td>\n",
       "      <td>26.0</td>\n",
       "      <td>7.9250</td>\n",
       "      <td>S</td>\n",
       "    </tr>\n",
       "    <tr>\n",
       "      <th>3</th>\n",
       "      <td>1</td>\n",
       "      <td>female</td>\n",
       "      <td>35.0</td>\n",
       "      <td>53.1000</td>\n",
       "      <td>S</td>\n",
       "    </tr>\n",
       "    <tr>\n",
       "      <th>4</th>\n",
       "      <td>3</td>\n",
       "      <td>male</td>\n",
       "      <td>35.0</td>\n",
       "      <td>8.0500</td>\n",
       "      <td>S</td>\n",
       "    </tr>\n",
       "  </tbody>\n",
       "</table>\n",
       "</div>"
      ],
      "text/plain": [
       "   Pclass     Sex   Age     Fare Embarked\n",
       "0       3    male  22.0   7.2500        S\n",
       "1       1  female  38.0  71.2833        C\n",
       "2       3  female  26.0   7.9250        S\n",
       "3       1  female  35.0  53.1000        S\n",
       "4       3    male  35.0   8.0500        S"
      ]
     },
     "execution_count": 10,
     "metadata": {},
     "output_type": "execute_result"
    }
   ],
   "source": [
    "# Now we have decided on our null values and planned out the varaibles we are going to use, we need to onehotencode our data\n",
    "# One hot encoding is a way of using categorical variables in models\n",
    "# Our categoricals are:\n",
    "# - Sex\n",
    "# - Embarked\n",
    "from sklearn.preprocessing import OneHotEncoder\n",
    "\n",
    "# First, we need to take out our target variable\n",
    "y = train['Survived']\n",
    "train = train.drop('Survived', axis = 1)\n",
    "train.head()"
   ]
  },
  {
   "cell_type": "code",
   "execution_count": 11,
   "metadata": {
    "collapsed": false
   },
   "outputs": [
    {
     "data": {
      "text/html": [
       "<div>\n",
       "<table border=\"1\" class=\"dataframe\">\n",
       "  <thead>\n",
       "    <tr style=\"text-align: right;\">\n",
       "      <th></th>\n",
       "      <th>Pclass</th>\n",
       "      <th>Sex</th>\n",
       "      <th>Age</th>\n",
       "      <th>Fare</th>\n",
       "      <th>Embarked</th>\n",
       "    </tr>\n",
       "  </thead>\n",
       "  <tbody>\n",
       "    <tr>\n",
       "      <th>0</th>\n",
       "      <td>3</td>\n",
       "      <td>male</td>\n",
       "      <td>22.0</td>\n",
       "      <td>7.2500</td>\n",
       "      <td>S</td>\n",
       "    </tr>\n",
       "    <tr>\n",
       "      <th>1</th>\n",
       "      <td>1</td>\n",
       "      <td>female</td>\n",
       "      <td>38.0</td>\n",
       "      <td>71.2833</td>\n",
       "      <td>C</td>\n",
       "    </tr>\n",
       "    <tr>\n",
       "      <th>2</th>\n",
       "      <td>3</td>\n",
       "      <td>female</td>\n",
       "      <td>26.0</td>\n",
       "      <td>7.9250</td>\n",
       "      <td>S</td>\n",
       "    </tr>\n",
       "    <tr>\n",
       "      <th>3</th>\n",
       "      <td>1</td>\n",
       "      <td>female</td>\n",
       "      <td>35.0</td>\n",
       "      <td>53.1000</td>\n",
       "      <td>S</td>\n",
       "    </tr>\n",
       "    <tr>\n",
       "      <th>4</th>\n",
       "      <td>3</td>\n",
       "      <td>male</td>\n",
       "      <td>35.0</td>\n",
       "      <td>8.0500</td>\n",
       "      <td>S</td>\n",
       "    </tr>\n",
       "  </tbody>\n",
       "</table>\n",
       "</div>"
      ],
      "text/plain": [
       "   Pclass     Sex   Age     Fare Embarked\n",
       "0       3    male  22.0   7.2500        S\n",
       "1       1  female  38.0  71.2833        C\n",
       "2       3  female  26.0   7.9250        S\n",
       "3       1  female  35.0  53.1000        S\n",
       "4       3    male  35.0   8.0500        S"
      ]
     },
     "execution_count": 11,
     "metadata": {},
     "output_type": "execute_result"
    }
   ],
   "source": [
    "#onehot_mask = [True if x.dtype != 'Float64' else False for x in train.dtypes]\n",
    "#onehot_mask\n",
    "train.dtypes\n",
    "train['Sex'] = pd.Categorical(train['Sex'])\n",
    "train['Embarked'] = pd.Categorical(train['Embarked'])\n",
    "\n",
    "train.head()"
   ]
  },
  {
   "cell_type": "code",
   "execution_count": 12,
   "metadata": {
    "collapsed": false
   },
   "outputs": [
    {
     "data": {
      "text/plain": [
       "Pclass         int64\n",
       "Sex         category\n",
       "Age          float64\n",
       "Fare         float64\n",
       "Embarked    category\n",
       "dtype: object"
      ]
     },
     "execution_count": 12,
     "metadata": {},
     "output_type": "execute_result"
    }
   ],
   "source": [
    "# Get the dummy/onehot variables\n",
    "# One hot encoding is the method of converting a categorical variable into colums of 1/0s\n",
    "\n",
    "#First, need to see what columns we will want to encode, by looking at the datatypes of the columns\n",
    "train.dtypes"
   ]
  },
  {
   "cell_type": "code",
   "execution_count": 13,
   "metadata": {
    "collapsed": true
   },
   "outputs": [],
   "source": [
    "#Clearly, sex and embarked are categoricals\n",
    "#However, I would also class PClass as categorical as well\n",
    "#Because it is numeric, but it could easily be character based (Ie, First Class, Second Class etc)\n",
    "\n",
    "train = pd.get_dummies(train, columns=['Pclass', 'Sex', 'Embarked'])"
   ]
  },
  {
   "cell_type": "code",
   "execution_count": 14,
   "metadata": {
    "collapsed": false
   },
   "outputs": [
    {
     "data": {
      "text/html": [
       "<div>\n",
       "<table border=\"1\" class=\"dataframe\">\n",
       "  <thead>\n",
       "    <tr style=\"text-align: right;\">\n",
       "      <th></th>\n",
       "      <th>Age</th>\n",
       "      <th>Fare</th>\n",
       "      <th>Pclass_1</th>\n",
       "      <th>Pclass_2</th>\n",
       "      <th>Pclass_3</th>\n",
       "      <th>Sex_female</th>\n",
       "      <th>Sex_male</th>\n",
       "      <th>Embarked_C</th>\n",
       "      <th>Embarked_Q</th>\n",
       "      <th>Embarked_S</th>\n",
       "    </tr>\n",
       "  </thead>\n",
       "  <tbody>\n",
       "    <tr>\n",
       "      <th>0</th>\n",
       "      <td>22.0</td>\n",
       "      <td>2.110213</td>\n",
       "      <td>0.0</td>\n",
       "      <td>0.0</td>\n",
       "      <td>1.0</td>\n",
       "      <td>0.0</td>\n",
       "      <td>1.0</td>\n",
       "      <td>0.0</td>\n",
       "      <td>0.0</td>\n",
       "      <td>1.0</td>\n",
       "    </tr>\n",
       "    <tr>\n",
       "      <th>1</th>\n",
       "      <td>38.0</td>\n",
       "      <td>4.280593</td>\n",
       "      <td>1.0</td>\n",
       "      <td>0.0</td>\n",
       "      <td>0.0</td>\n",
       "      <td>1.0</td>\n",
       "      <td>0.0</td>\n",
       "      <td>1.0</td>\n",
       "      <td>0.0</td>\n",
       "      <td>0.0</td>\n",
       "    </tr>\n",
       "    <tr>\n",
       "      <th>2</th>\n",
       "      <td>26.0</td>\n",
       "      <td>2.188856</td>\n",
       "      <td>0.0</td>\n",
       "      <td>0.0</td>\n",
       "      <td>1.0</td>\n",
       "      <td>1.0</td>\n",
       "      <td>0.0</td>\n",
       "      <td>0.0</td>\n",
       "      <td>0.0</td>\n",
       "      <td>1.0</td>\n",
       "    </tr>\n",
       "    <tr>\n",
       "      <th>3</th>\n",
       "      <td>35.0</td>\n",
       "      <td>3.990834</td>\n",
       "      <td>1.0</td>\n",
       "      <td>0.0</td>\n",
       "      <td>0.0</td>\n",
       "      <td>1.0</td>\n",
       "      <td>0.0</td>\n",
       "      <td>0.0</td>\n",
       "      <td>0.0</td>\n",
       "      <td>1.0</td>\n",
       "    </tr>\n",
       "    <tr>\n",
       "      <th>4</th>\n",
       "      <td>35.0</td>\n",
       "      <td>2.202765</td>\n",
       "      <td>0.0</td>\n",
       "      <td>0.0</td>\n",
       "      <td>1.0</td>\n",
       "      <td>0.0</td>\n",
       "      <td>1.0</td>\n",
       "      <td>0.0</td>\n",
       "      <td>0.0</td>\n",
       "      <td>1.0</td>\n",
       "    </tr>\n",
       "  </tbody>\n",
       "</table>\n",
       "</div>"
      ],
      "text/plain": [
       "    Age      Fare  Pclass_1  Pclass_2  Pclass_3  Sex_female  Sex_male  \\\n",
       "0  22.0  2.110213       0.0       0.0       1.0         0.0       1.0   \n",
       "1  38.0  4.280593       1.0       0.0       0.0         1.0       0.0   \n",
       "2  26.0  2.188856       0.0       0.0       1.0         1.0       0.0   \n",
       "3  35.0  3.990834       1.0       0.0       0.0         1.0       0.0   \n",
       "4  35.0  2.202765       0.0       0.0       1.0         0.0       1.0   \n",
       "\n",
       "   Embarked_C  Embarked_Q  Embarked_S  \n",
       "0         0.0         0.0         1.0  \n",
       "1         1.0         0.0         0.0  \n",
       "2         0.0         0.0         1.0  \n",
       "3         0.0         0.0         1.0  \n",
       "4         0.0         0.0         1.0  "
      ]
     },
     "execution_count": 14,
     "metadata": {},
     "output_type": "execute_result"
    }
   ],
   "source": [
    "# I would also personally log the financial variables (this is quite common, but not a strict rule)\n",
    "# What is also common is to add 1 to each value, if you know the values are positive but contain zeros)\n",
    "train['Fare'] = np.log(train['Fare']+1)\n",
    "train.head()"
   ]
  },
  {
   "cell_type": "code",
   "execution_count": 15,
   "metadata": {
    "collapsed": false
   },
   "outputs": [
    {
     "name": "stdout",
     "output_type": "stream",
     "text": [
      "Train size: 712\n",
      "Test size: 179\n"
     ]
    }
   ],
   "source": [
    "#Finally, we have to split the data into train and test data\n",
    "X_train, X_test, y_train, y_test = train_test_split(train, y, test_size = 0.2, random_state = 123)\n",
    "\n",
    "\n",
    "print ('Train size: {}'.format(len(X_train.index)))\n",
    "print ('Test size: {}'.format(len(X_test.index)))"
   ]
  },
  {
   "cell_type": "code",
   "execution_count": 16,
   "metadata": {
    "collapsed": true
   },
   "outputs": [],
   "source": [
    "# Now we can build the classifier\n",
    "from sklearn.ensemble import RandomForestClassifier\n",
    "\n",
    "clf = RandomForestClassifier(n_estimators=50\n",
    "                            , criterion = 'gini'\n",
    "                            , max_features = 'auto')"
   ]
  },
  {
   "cell_type": "code",
   "execution_count": 17,
   "metadata": {
    "collapsed": false
   },
   "outputs": [],
   "source": [
    "# Now we fit the classifier\n",
    "clf = clf.fit(X=X_train, y=y_train)"
   ]
  },
  {
   "cell_type": "code",
   "execution_count": 18,
   "metadata": {
    "collapsed": false
   },
   "outputs": [
    {
     "data": {
      "text/plain": [
       "0.84357541899441346"
      ]
     },
     "execution_count": 18,
     "metadata": {},
     "output_type": "execute_result"
    }
   ],
   "source": [
    "scores = clf.score(X=X_test, y=y_test)\n",
    "scores"
   ]
  },
  {
   "cell_type": "code",
   "execution_count": 19,
   "metadata": {
    "collapsed": false
   },
   "outputs": [
    {
     "data": {
      "image/png": "[encoded data removed]",
      "text/plain": [
       "<matplotlib.figure.Figure at 0x1114e1c18>"
      ]
     },
     "metadata": {},
     "output_type": "display_data"
    }
   ],
   "source": [
    "# An OK score...\n",
    "# Lets look more closely at the results\n",
    "\n",
    "importances = clf.feature_importances_\n",
    "indices = np.argsort(importances)\n",
    "\n",
    "\n",
    "# How about feature importance\n",
    "plt.figure(1)\n",
    "plt.title('Feature Importances')\n",
    "plt.barh(range(len(indices)), importances[indices], color='b', align='center')\n",
    "plt.yticks(range(len(indices)), train[indices])\n",
    "plt.xlabel('Relative Importance')\n",
    "plt.show()\n",
    "\n"
   ]
  },
  {
   "cell_type": "code",
   "execution_count": 30,
   "metadata": {
    "collapsed": false
   },
   "outputs": [
    {
     "data": {
      "text/plain": [
       "OrderedDict([('gini',\n",
       "              [(1, 0.76536312849162014),\n",
       "               (2, 0.83798882681564246),\n",
       "               (3, 0.81005586592178769),\n",
       "               (4, 0.79329608938547491),\n",
       "               (5, 0.81564245810055869),\n",
       "               (6, 0.83798882681564246),\n",
       "               (7, 0.84357541899441346),\n",
       "               (8, 0.83240223463687146),\n",
       "               (9, 0.84916201117318435),\n",
       "               (10, 0.81564245810055869),\n",
       "               (11, 0.84357541899441346),\n",
       "               (12, 0.85474860335195535),\n",
       "               (13, 0.82122905027932958),\n",
       "               (14, 0.84357541899441346),\n",
       "               (15, 0.84916201117318435),\n",
       "               (16, 0.86033519553072624),\n",
       "               (17, 0.82681564245810057),\n",
       "               (18, 0.82681564245810057),\n",
       "               (19, 0.84916201117318435),\n",
       "               (20, 0.82681564245810057),\n",
       "               (21, 0.83240223463687146),\n",
       "               (22, 0.84916201117318435),\n",
       "               (23, 0.83240223463687146),\n",
       "               (24, 0.84357541899441346),\n",
       "               (25, 0.83240223463687146),\n",
       "               (26, 0.86033519553072624),\n",
       "               (27, 0.84357541899441346),\n",
       "               (28, 0.83798882681564246),\n",
       "               (29, 0.86592178770949724),\n",
       "               (30, 0.84357541899441346),\n",
       "               (31, 0.84357541899441346),\n",
       "               (32, 0.85474860335195535),\n",
       "               (33, 0.82122905027932958),\n",
       "               (34, 0.86033519553072624),\n",
       "               (35, 0.86033519553072624),\n",
       "               (36, 0.83798882681564246),\n",
       "               (37, 0.82681564245810057),\n",
       "               (38, 0.84916201117318435),\n",
       "               (39, 0.85474860335195535),\n",
       "               (40, 0.85474860335195535),\n",
       "               (41, 0.83798882681564246),\n",
       "               (42, 0.84916201117318435),\n",
       "               (43, 0.86033519553072624),\n",
       "               (44, 0.83798882681564246),\n",
       "               (45, 0.84916201117318435),\n",
       "               (46, 0.86033519553072624),\n",
       "               (47, 0.84357541899441346),\n",
       "               (48, 0.83798882681564246),\n",
       "               (49, 0.83798882681564246),\n",
       "               (50, 0.84357541899441346),\n",
       "               (51, 0.84357541899441346),\n",
       "               (52, 0.84916201117318435),\n",
       "               (53, 0.83798882681564246),\n",
       "               (54, 0.84357541899441346),\n",
       "               (55, 0.85474860335195535),\n",
       "               (56, 0.83240223463687146),\n",
       "               (57, 0.85474860335195535),\n",
       "               (58, 0.84916201117318435),\n",
       "               (59, 0.84916201117318435),\n",
       "               (60, 0.83798882681564246),\n",
       "               (61, 0.83798882681564246),\n",
       "               (62, 0.83240223463687146),\n",
       "               (63, 0.84916201117318435),\n",
       "               (64, 0.85474860335195535),\n",
       "               (65, 0.85474860335195535),\n",
       "               (66, 0.84916201117318435),\n",
       "               (67, 0.86033519553072624),\n",
       "               (68, 0.85474860335195535),\n",
       "               (69, 0.83798882681564246),\n",
       "               (70, 0.84357541899441346),\n",
       "               (71, 0.84916201117318435),\n",
       "               (72, 0.84916201117318435),\n",
       "               (73, 0.84357541899441346),\n",
       "               (74, 0.86592178770949724),\n",
       "               (75, 0.83798882681564246),\n",
       "               (76, 0.84916201117318435),\n",
       "               (77, 0.84357541899441346),\n",
       "               (78, 0.85474860335195535),\n",
       "               (79, 0.84357541899441346),\n",
       "               (80, 0.85474860335195535),\n",
       "               (81, 0.86033519553072624),\n",
       "               (82, 0.84916201117318435),\n",
       "               (83, 0.85474860335195535),\n",
       "               (84, 0.83798882681564246),\n",
       "               (85, 0.84916201117318435),\n",
       "               (86, 0.86033519553072624),\n",
       "               (87, 0.84916201117318435),\n",
       "               (88, 0.83798882681564246),\n",
       "               (89, 0.83798882681564246),\n",
       "               (90, 0.84357541899441346),\n",
       "               (91, 0.85474860335195535),\n",
       "               (92, 0.84357541899441346),\n",
       "               (93, 0.83240223463687146),\n",
       "               (94, 0.86033519553072624),\n",
       "               (95, 0.86033519553072624),\n",
       "               (96, 0.84916201117318435),\n",
       "               (97, 0.83798882681564246),\n",
       "               (98, 0.85474860335195535),\n",
       "               (99, 0.84916201117318435),\n",
       "               (100, 0.84916201117318435)]),\n",
       "             ('entropy',\n",
       "              [(1, 0.75418994413407825),\n",
       "               (2, 0.82122905027932958),\n",
       "               (3, 0.82122905027932958),\n",
       "               (4, 0.83240223463687146),\n",
       "               (5, 0.85474860335195535),\n",
       "               (6, 0.81564245810055869),\n",
       "               (7, 0.86033519553072624),\n",
       "               (8, 0.83240223463687146),\n",
       "               (9, 0.82681564245810057),\n",
       "               (10, 0.86033519553072624),\n",
       "               (11, 0.83798882681564246),\n",
       "               (12, 0.83798882681564246),\n",
       "               (13, 0.83798882681564246),\n",
       "               (14, 0.84916201117318435),\n",
       "               (15, 0.81564245810055869),\n",
       "               (16, 0.83240223463687146),\n",
       "               (17, 0.83798882681564246),\n",
       "               (18, 0.85474860335195535),\n",
       "               (19, 0.84357541899441346),\n",
       "               (20, 0.83798882681564246),\n",
       "               (21, 0.82122905027932958),\n",
       "               (22, 0.86592178770949724),\n",
       "               (23, 0.83798882681564246),\n",
       "               (24, 0.85474860335195535),\n",
       "               (25, 0.85474860335195535),\n",
       "               (26, 0.85474860335195535),\n",
       "               (27, 0.83240223463687146),\n",
       "               (28, 0.85474860335195535),\n",
       "               (29, 0.85474860335195535),\n",
       "               (30, 0.84357541899441346),\n",
       "               (31, 0.84357541899441346),\n",
       "               (32, 0.84916201117318435),\n",
       "               (33, 0.87150837988826813),\n",
       "               (34, 0.86033519553072624),\n",
       "               (35, 0.83240223463687146),\n",
       "               (36, 0.83240223463687146),\n",
       "               (37, 0.85474860335195535),\n",
       "               (38, 0.83798882681564246),\n",
       "               (39, 0.83240223463687146),\n",
       "               (40, 0.82681564245810057),\n",
       "               (41, 0.85474860335195535),\n",
       "               (42, 0.83798882681564246),\n",
       "               (43, 0.85474860335195535),\n",
       "               (44, 0.86033519553072624),\n",
       "               (45, 0.86033519553072624),\n",
       "               (46, 0.86033519553072624),\n",
       "               (47, 0.83240223463687146),\n",
       "               (48, 0.83798882681564246),\n",
       "               (49, 0.82681564245810057),\n",
       "               (50, 0.83798882681564246),\n",
       "               (51, 0.84916201117318435),\n",
       "               (52, 0.84916201117318435),\n",
       "               (53, 0.83798882681564246),\n",
       "               (54, 0.84916201117318435),\n",
       "               (55, 0.85474860335195535),\n",
       "               (56, 0.85474860335195535),\n",
       "               (57, 0.86033519553072624),\n",
       "               (58, 0.86592178770949724),\n",
       "               (59, 0.84357541899441346),\n",
       "               (60, 0.86033519553072624),\n",
       "               (61, 0.85474860335195535),\n",
       "               (62, 0.83240223463687146),\n",
       "               (63, 0.84916201117318435),\n",
       "               (64, 0.84357541899441346),\n",
       "               (65, 0.84357541899441346),\n",
       "               (66, 0.84916201117318435),\n",
       "               (67, 0.83798882681564246),\n",
       "               (68, 0.83798882681564246),\n",
       "               (69, 0.85474860335195535),\n",
       "               (70, 0.84357541899441346),\n",
       "               (71, 0.84916201117318435),\n",
       "               (72, 0.84916201117318435),\n",
       "               (73, 0.84916201117318435),\n",
       "               (74, 0.84357541899441346),\n",
       "               (75, 0.84357541899441346),\n",
       "               (76, 0.83798882681564246),\n",
       "               (77, 0.85474860335195535),\n",
       "               (78, 0.84357541899441346),\n",
       "               (79, 0.84357541899441346),\n",
       "               (80, 0.84916201117318435),\n",
       "               (81, 0.86033519553072624),\n",
       "               (82, 0.84357541899441346),\n",
       "               (83, 0.85474860335195535),\n",
       "               (84, 0.84357541899441346),\n",
       "               (85, 0.85474860335195535),\n",
       "               (86, 0.86033519553072624),\n",
       "               (87, 0.84916201117318435),\n",
       "               (88, 0.86033519553072624),\n",
       "               (89, 0.84916201117318435),\n",
       "               (90, 0.83798882681564246),\n",
       "               (91, 0.84357541899441346),\n",
       "               (92, 0.84357541899441346),\n",
       "               (93, 0.84357541899441346),\n",
       "               (94, 0.86033519553072624),\n",
       "               (95, 0.84916201117318435),\n",
       "               (96, 0.84357541899441346),\n",
       "               (97, 0.83798882681564246),\n",
       "               (98, 0.83798882681564246),\n",
       "               (99, 0.84916201117318435),\n",
       "               (100, 0.84916201117318435)])])"
      ]
     },
     "execution_count": 30,
     "metadata": {},
     "output_type": "execute_result"
    }
   ],
   "source": [
    "# Interesting results. Generally follow rules that we would expect, with a few anomolies\n",
    "# How about looking at what happens if we play with some of our parameters\n",
    "criterion = ('gini', 'entropy')\n",
    "n_estimators = range(1,101)\n",
    "\n",
    "from collections import OrderedDict\n",
    "\n",
    "scores = []\n",
    "plt_dict = OrderedDict((label, []) for label in criterion)\n",
    "for i in criterion:\n",
    "    for j in n_estimators:\n",
    "        clf = RandomForestClassifier(n_estimators=j\n",
    "                            , criterion = i\n",
    "                            , max_features = 'auto')\n",
    "        clf = clf.fit(X=X_train, y=y_train)\n",
    "        score = clf.score(X=X_test, y=y_test)\n",
    "        plt_dict[str(i)].append((j, score))\n",
    "        \n",
    "        \n",
    "plt_dict"
   ]
  },
  {
   "cell_type": "code",
   "execution_count": 31,
   "metadata": {
    "collapsed": false
   },
   "outputs": [
    {
     "data": {
      "image/png": "[encoded data removed]",
      "text/plain": [
       "<matplotlib.figure.Figure at 0x1159921d0>"
      ]
     },
     "metadata": {},
     "output_type": "display_data"
    }
   ],
   "source": [
    "# Now plot it\n",
    "for key, value in plt_dict.items():\n",
    "    xs, ys = zip(*value)\n",
    "    plt.plot(xs, ys, label = key)\n",
    "    \n",
    "plt.xlabel('Estimators')\n",
    "plt.ylabel('Score')\n",
    "plt.title('Plot of scores against number of estimators for both types of crition')\n",
    "plt.legend()\n",
    "plt.show()"
   ]
  },
  {
   "cell_type": "code",
   "execution_count": 32,
   "metadata": {
    "collapsed": false
   },
   "outputs": [
    {
     "data": {
      "image/png": "[encoded data removed]",
      "text/plain": [
       "<matplotlib.figure.Figure at 0x114e944a8>"
      ]
     },
     "metadata": {},
     "output_type": "display_data"
    }
   ],
   "source": [
    "# Erm..., so basically, this is showing the criterion makes very little difference in this case\n",
    "# You could also change some of the other parameters to look at them instead\n",
    "# IE, the OOB error\n",
    "# V. Briefly, what this is, is the error realted to the sample outside of your bootstrapped sample used for the tree\n",
    "# We could also look at this in terms of the the feature selection\n",
    "\n",
    "\n",
    "max_features=['auto', 'sqrt', 'log2'] \n",
    "\n",
    "scores = []\n",
    "plt_dict = OrderedDict((label, []) for label in max_features)\n",
    "for i in max_features:\n",
    "    for j in n_estimators:\n",
    "        clf = RandomForestClassifier(n_estimators= j\n",
    "                            , criterion = 'gini'\n",
    "                            , max_features = i)\n",
    "        clf = clf.fit(X=X_train, y=y_train)\n",
    "        score = clf.score(X=X_test, y=y_test)\n",
    "        plt_dict[str(i)].append((j, score))\n",
    "        \n",
    "# Now plot it\n",
    "for key, value in plt_dict.items():\n",
    "    xs, ys = zip(*value)\n",
    "    plt.plot(xs, ys, label = key)\n",
    "    \n",
    "plt.xlabel('Estimators')\n",
    "plt.ylabel('Score')\n",
    "plt.title('Plot of scores against number of estimators for both types of crition')\n",
    "plt.legend()\n",
    "plt.show()\n"
   ]
  },
  {
   "cell_type": "code",
   "execution_count": null,
   "metadata": {
    "collapsed": true
   },
   "outputs": [],
   "source": [
    "# Again, not much differnce between the dif types of feature segmenation. Possibly because of the small dataset\n",
    "# Possible extensions....\n",
    "## Look at other forms of enseble modelling techniques (ie, ada boosing) - Adaboosing is a boosting method, random forrest is an averaging method\n",
    "## Look at Support Vector Machines (SVM) model. This is a way of creating non-linear decision boundries in multi-dimensional space\n",
    "\n",
    "\n",
    "## When you have a decent model, then run it on the datafile 'test.csv', and submit your result to Kaggle. \n",
    "## They will give you back a score, which is an assesment of how good your model is\n",
    "## For more infomation on what they are looking for, here is the submission page -https://www.kaggle.com/c/titanic#evaluation\n",
    "\n",
    "\n",
    "# Things I have not touched on, but you can use to help with this exercise\n",
    "# Root Mean Square Error (RMSE) - This is a very important error metric in machine learning, but not relevant to this task\n",
    "# Cross Validation - This is also very important, but the OOB error for random forests can mean this is not absolutely neccesary."
   ]
  }
 ],
 "metadata": {
  "anaconda-cloud": {},
  "kernelspec": {
   "display_name": "Python [conda root]",
   "language": "python",
   "name": "conda-root-py"
  },
  "language_info": {
   "codemirror_mode": {
    "name": "ipython",
    "version": 3
   },
   "file_extension": ".py",
   "mimetype": "text/x-python",
   "name": "python",
   "nbconvert_exporter": "python",
   "pygments_lexer": "ipython3",
   "version": "3.5.2"
  }
 },
 "nbformat": 4,
 "nbformat_minor": 1
}
